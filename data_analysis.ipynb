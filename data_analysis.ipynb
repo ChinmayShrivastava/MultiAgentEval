{
 "cells": [
  {
   "cell_type": "code",
   "execution_count": 4,
   "id": "fb02e90f-9518-40da-a267-0ee0660fdca0",
   "metadata": {},
   "outputs": [
    {
     "name": "stdout",
     "output_type": "stream",
     "text": [
      "Experiment ID: 0, Name: Default\n"
     ]
    },
    {
     "data": {
      "text/html": [
       "<div>\n",
       "<style scoped>\n",
       "    .dataframe tbody tr th:only-of-type {\n",
       "        vertical-align: middle;\n",
       "    }\n",
       "\n",
       "    .dataframe tbody tr th {\n",
       "        vertical-align: top;\n",
       "    }\n",
       "\n",
       "    .dataframe thead th {\n",
       "        text-align: right;\n",
       "    }\n",
       "</style>\n",
       "<table border=\"1\" class=\"dataframe\">\n",
       "  <thead>\n",
       "    <tr style=\"text-align: right;\">\n",
       "      <th></th>\n",
       "      <th>run_id</th>\n",
       "      <th>experiment_id</th>\n",
       "      <th>status</th>\n",
       "      <th>artifact_uri</th>\n",
       "      <th>start_time</th>\n",
       "      <th>end_time</th>\n",
       "    </tr>\n",
       "  </thead>\n",
       "  <tbody>\n",
       "  </tbody>\n",
       "</table>\n",
       "</div>"
      ],
      "text/plain": [
       "Empty DataFrame\n",
       "Columns: [run_id, experiment_id, status, artifact_uri, start_time, end_time]\n",
       "Index: []"
      ]
     },
     "execution_count": 4,
     "metadata": {},
     "output_type": "execute_result"
    }
   ],
   "source": [
    "import mlflow\n",
    "import pandas as pd\n",
    "\n",
    "# Set the tracking URI to the MLFLow Server\n",
    "mlflow.set_tracking_uri('http://127.0.0.1:5000')\n",
    "\n",
    "# Retrieve experiments\n",
    "experiments = mlflow.search_experiments()\n",
    "\n",
    "# Display the available experiments\n",
    "experiments\n",
    "\n",
    "# Display the available experiments\n",
    "experiments = mlflow.search_experiments()\n",
    "\n",
    "#Display the available experiments\n",
    "for exp in experiments:\n",
    "    print(f\"Experiment ID: {exp.experiment_id}, Name: {exp.name}\")\n",
    "\n",
    "# Choose an experiment\n",
    "experiment_id = experiments[0].experiment_id\n",
    "\n",
    "# Retrieve runs from selected experiment\n",
    "runs = mlflow.search_runs(experiment_ids=[experiment_id])\n",
    "\n",
    "# Convert runs to a DataFrame for easier manipulation\n",
    "runs_df = pd.DataFrame(runs)\n",
    "\n",
    "# Display the first few rows of the DAtaFrame\n",
    "runs_df.head()"
   ]
  },
  {
   "cell_type": "code",
   "execution_count": null,
   "id": "3b18775c-f194-4cbd-a867-5715eaa92bd3",
   "metadata": {},
   "outputs": [],
   "source": []
  }
 ],
 "metadata": {
  "kernelspec": {
   "display_name": "Python 3 (ipykernel)",
   "language": "python",
   "name": "python3"
  },
  "language_info": {
   "codemirror_mode": {
    "name": "ipython",
    "version": 3
   },
   "file_extension": ".py",
   "mimetype": "text/x-python",
   "name": "python",
   "nbconvert_exporter": "python",
   "pygments_lexer": "ipython3",
   "version": "3.11.7"
  }
 },
 "nbformat": 4,
 "nbformat_minor": 5
}
