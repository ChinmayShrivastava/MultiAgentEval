{
 "cells": [
  {
   "cell_type": "code",
   "execution_count": 1,
   "metadata": {},
   "outputs": [
    {
     "name": "stderr",
     "output_type": "stream",
     "text": [
      "INFO:root:Initalized TextGradLiteAgent with question: The inverse of -i in the multiplicative group, {1,...\n"
     ]
    }
   ],
   "source": [
    "from textgradlite.llmactions.agent import TextGradLiteAgent, MMLU\n",
    "\n",
    "q = MMLU(\n",
    "\tquestion=\"The inverse of -i in the multiplicative group, {1, -1, i , -i} is\",\n",
    "\tanswers=[\"1\", \"-1\", \"i\", \"-i\"],\n",
    "\tcorrect=\"C\"\n",
    ")\n",
    "\n",
    "ta = TextGradLiteAgent(question=q, max_iterations=2, verbose=True)"
   ]
  },
  {
   "cell_type": "code",
   "execution_count": 2,
   "metadata": {},
   "outputs": [
    {
     "name": "stdout",
     "output_type": "stream",
     "text": [
      "For the given multiple choice question with the options, reason step by step to get to the answer.\n",
      "For the output follow the format: \n",
      "Reasoning:\n",
      "$reasoning\n",
      "Answer:\n",
      "$answer\n",
      "Where `$reasoning` is the step by step reasoning to get to the answer and `$answer` is the letter from `ABCD` corresponding to the answer.\n",
      "Question:\n",
      "The inverse of -i in the multiplicative group, {1, -1, i , -i} is\n",
      "Options:\n",
      "A. 1\n",
      "B. -1\n",
      "C. i\n",
      "D. -i\n"
     ]
    }
   ],
   "source": [
    "print(ta._current_prompt)"
   ]
  },
  {
   "cell_type": "code",
   "execution_count": 3,
   "metadata": {},
   "outputs": [
    {
     "name": "stderr",
     "output_type": "stream",
     "text": [
      "INFO:root:Running TextGradLiteAgent\n",
      "INFO:root:Iteration: 1\n",
      "INFO:httpx:HTTP Request: POST https://api.openai.com/v1/chat/completions \"HTTP/1.1 200 OK\"\n",
      "INFO:httpx:HTTP Request: POST https://api.openai.com/v1/chat/completions \"HTTP/1.1 200 OK\"\n",
      "INFO:httpx:HTTP Request: POST https://api.openai.com/v1/chat/completions \"HTTP/1.1 200 OK\"\n",
      "INFO:root:Iteration: 2\n",
      "INFO:httpx:HTTP Request: POST https://api.openai.com/v1/chat/completions \"HTTP/1.1 200 OK\"\n",
      "INFO:httpx:HTTP Request: POST https://api.openai.com/v1/chat/completions \"HTTP/1.1 200 OK\"\n",
      "INFO:httpx:HTTP Request: POST https://api.openai.com/v1/chat/completions \"HTTP/1.1 200 OK\"\n"
     ]
    },
    {
     "data": {
      "text/plain": [
       "{'initial_prompt': 'For the given multiple choice question with the options, reason step by step to find the inverse of -i in the multiplicative group {1, -1, i, -i}.\\nFor the output follow the format: \\nReasoning:\\n$reasoning\\nAnswer:\\n$answer\\nWhere `$reasoning` is the step by step reasoning to find the inverse of -i in the multiplicative group and `$answer` is the letter from `ABCD` corresponding to the answer.\\nQuestion:\\nThe inverse of -i in the multiplicative group {1, -1, i, -i} is\\nOptions:\\nA. 1\\nB. -1\\nC. i\\nD. -i',\n",
       " 'response': \"Reasoning:\\nTo find the inverse of -i in the multiplicative group {1, -1, i, -i}, we need to find an element in the group such that when multiplied by -i, the result is 1.\\n\\nLet's consider each element in the group:\\n1. 1: -i * 1 = -i ≠ 1\\n2. -1: -i * -1 = i ≠ 1\\n3. i: -i * i = 1 (since i * i = -1)\\n4. -i: -i * -i = 1\\n\\nTherefore, the inverse of -i in the multiplicative group {1, -1, i, -i} is -i.\\n\\nAnswer:\\nD. -i\",\n",
       " 'feedback': 'Criteria for evaluating the prompt and response:\\n\\n1. Clarity of the prompt: The prompt should clearly state the question and provide clear instructions on how to approach finding the inverse of -i in the given multiplicative group.\\nFeedback: The prompt is clear in stating the question and providing instructions on how to reason step by step to find the inverse of -i.\\n\\n2. Accuracy of the reasoning: The reasoning provided in the response should be accurate and logical, leading to the correct answer.\\nFeedback: The reasoning provided in the response is accurate and logical. The step-by-step approach to considering each element in the group and determining the inverse of -i is well thought out.\\n\\n3. Correctness of the final answer: The final answer should be the correct element in the multiplicative group that is the inverse of -i.\\nFeedback: The final answer provided in the response is correct. The inverse of -i in the multiplicative group {1, -1, i, -i} is indeed -i, as determined through the reasoning process.\\n\\n4. Completeness of the reasoning: The reasoning should cover all elements in the multiplicative group and show why they are or are not the inverse of -i.\\nFeedback: The reasoning in the response is complete as it considers all elements in the multiplicative group and explains why they are or are not the inverse of -i.\\n\\n5. Consistency in the reasoning process: The reasoning process should be consistent and follow a logical flow from one step to the next.\\nFeedback: The reasoning process in the response is consistent and follows a logical flow, making it easy to understand how the inverse of -i is determined.\\n\\nOverall, the prompt and response are well-structured and provide a clear and accurate explanation of how to find the inverse of -i in the given multiplicative group. The feedback provided focuses on the strengths of the prompt and response, highlighting the clarity, accuracy, correctness, completeness, and consistency of the reasoning process. This feedback can be used to further improve the prompt by ensuring that it is clear, logical, and leads to the correct answer.',\n",
       " 'updated_prompt': 'For the given multiple choice question with the options, reason step by step to find the inverse of -i in the multiplicative group {1, -1, i, -i}.\\nFor the output follow the format: \\nReasoning:\\nConsider each element in the multiplicative group and determine if it is the inverse of -i by multiplying them together to see if the result is equal to 1.\\n1. For 1: (-i) * 1 = -i ≠ 1\\n2. For -1: (-i) * (-1) = i ≠ 1\\n3. For i: (-i) * i = 1\\n4. For -i: (-i) * (-i) = 1\\nSince -i * -i = 1, the inverse of -i in the multiplicative group is -i.\\nAnswer:\\nD. -i'}"
      ]
     },
     "execution_count": 3,
     "metadata": {},
     "output_type": "execute_result"
    }
   ],
   "source": [
    "ta.run()"
   ]
  },
  {
   "cell_type": "code",
   "execution_count": 4,
   "metadata": {},
   "outputs": [
    {
     "data": {
      "text/plain": [
       "{'corequestion': '',\n",
       " 'hints': [],\n",
       " 'iterations': {0: {'initial_prompt': 'For the given multiple choice question with the options, reason step by step to get to the answer.\\nFor the output follow the format: \\nReasoning:\\n$reasoning\\nAnswer:\\n$answer\\nWhere `$reasoning` is the step by step reasoning to get to the answer and `$answer` is the letter from `ABCD` corresponding to the answer.\\nQuestion:\\nThe inverse of -i in the multiplicative group, {1, -1, i , -i} is\\nOptions:\\nA. 1\\nB. -1\\nC. i\\nD. -i',\n",
       "   'response': 'Reasoning:\\nThe multiplicative group {1, -1, i, -i} consists of the numbers 1, -1, i, and -i. The inverse of a number in a multiplicative group is the number that when multiplied by the original number gives the identity element, which is 1. \\nThe inverse of -i would be the number that when multiplied by -i gives 1. \\nTo find the inverse of -i, we need to find a number x such that -i * x = 1. \\nMultiplying -i by x, we get -ix = 1. \\nDividing both sides by -i, we get x = -1/i. \\nTo simplify -1/i, we multiply the numerator and denominator by i to get x = -i/i^2 = -i/-1 = i.\\n\\nAnswer:\\nC. i',\n",
       "   'feedback': \"Criteria for evaluation:\\n1. Clarity of the question: The question should be clear and concise, without any ambiguity.\\nFeedback: The question is clear and straightforward, asking for the inverse of -i in the given multiplicative group.\\n\\n2. Relevance of options: The options provided should be relevant and plausible answers to the question.\\nFeedback: The options provided (1, -1, i, -i) are relevant and cover all possible answers in the given multiplicative group.\\n\\n3. Logical reasoning: The reasoning provided to arrive at the final answer should be logical and step-by-step.\\nFeedback: The reasoning provided is logical and follows the correct steps to find the inverse of -i in the multiplicative group.\\n\\n4. Accuracy of the final answer: The final answer should be accurate and correspond to the correct option.\\nFeedback: The final answer, i, is accurate and corresponds to the correct inverse of -i in the multiplicative group.\\n\\nOverall, the prompt is well-constructed with a clear question, relevant options, logical reasoning, and an accurate final answer. One suggestion for improvement could be to provide more context or background information about multiplicative groups for a deeper understanding. Additionally, including more challenging questions or variations of the question could enhance the prompt's effectiveness in testing the understanding of the concept.\",\n",
       "   'updated_prompt': 'For the given multiple choice question with the options, reason step by step to find the inverse of -i in the multiplicative group {1, -1, i, -i}.\\nFor the output follow the format: \\nReasoning:\\n$reasoning\\nAnswer:\\n$answer\\nWhere `$reasoning` is the step by step reasoning to find the inverse of -i in the multiplicative group and `$answer` is the letter from `ABCD` corresponding to the answer.\\nQuestion:\\nThe inverse of -i in the multiplicative group {1, -1, i, -i} is\\nOptions:\\nA. 1\\nB. -1\\nC. i\\nD. -i'},\n",
       "  1: {'initial_prompt': 'For the given multiple choice question with the options, reason step by step to find the inverse of -i in the multiplicative group {1, -1, i, -i}.\\nFor the output follow the format: \\nReasoning:\\n$reasoning\\nAnswer:\\n$answer\\nWhere `$reasoning` is the step by step reasoning to find the inverse of -i in the multiplicative group and `$answer` is the letter from `ABCD` corresponding to the answer.\\nQuestion:\\nThe inverse of -i in the multiplicative group {1, -1, i, -i} is\\nOptions:\\nA. 1\\nB. -1\\nC. i\\nD. -i',\n",
       "   'response': \"Reasoning:\\nTo find the inverse of -i in the multiplicative group {1, -1, i, -i}, we need to find an element in the group such that when multiplied by -i, the result is 1.\\n\\nLet's consider each element in the group:\\n1. 1: -i * 1 = -i ≠ 1\\n2. -1: -i * -1 = i ≠ 1\\n3. i: -i * i = 1 (since i * i = -1)\\n4. -i: -i * -i = 1\\n\\nTherefore, the inverse of -i in the multiplicative group {1, -1, i, -i} is -i.\\n\\nAnswer:\\nD. -i\",\n",
       "   'feedback': 'Criteria for evaluating the prompt and response:\\n\\n1. Clarity of the prompt: The prompt should clearly state the question and provide clear instructions on how to approach finding the inverse of -i in the given multiplicative group.\\nFeedback: The prompt is clear in stating the question and providing instructions on how to reason step by step to find the inverse of -i.\\n\\n2. Accuracy of the reasoning: The reasoning provided in the response should be accurate and logical, leading to the correct answer.\\nFeedback: The reasoning provided in the response is accurate and logical. The step-by-step approach to considering each element in the group and determining the inverse of -i is well thought out.\\n\\n3. Correctness of the final answer: The final answer should be the correct element in the multiplicative group that is the inverse of -i.\\nFeedback: The final answer provided in the response is correct. The inverse of -i in the multiplicative group {1, -1, i, -i} is indeed -i, as determined through the reasoning process.\\n\\n4. Completeness of the reasoning: The reasoning should cover all elements in the multiplicative group and show why they are or are not the inverse of -i.\\nFeedback: The reasoning in the response is complete as it considers all elements in the multiplicative group and explains why they are or are not the inverse of -i.\\n\\n5. Consistency in the reasoning process: The reasoning process should be consistent and follow a logical flow from one step to the next.\\nFeedback: The reasoning process in the response is consistent and follows a logical flow, making it easy to understand how the inverse of -i is determined.\\n\\nOverall, the prompt and response are well-structured and provide a clear and accurate explanation of how to find the inverse of -i in the given multiplicative group. The feedback provided focuses on the strengths of the prompt and response, highlighting the clarity, accuracy, correctness, completeness, and consistency of the reasoning process. This feedback can be used to further improve the prompt by ensuring that it is clear, logical, and leads to the correct answer.',\n",
       "   'updated_prompt': 'For the given multiple choice question with the options, reason step by step to find the inverse of -i in the multiplicative group {1, -1, i, -i}.\\nFor the output follow the format: \\nReasoning:\\nConsider each element in the multiplicative group and determine if it is the inverse of -i by multiplying them together to see if the result is equal to 1.\\n1. For 1: (-i) * 1 = -i ≠ 1\\n2. For -1: (-i) * (-1) = i ≠ 1\\n3. For i: (-i) * i = 1\\n4. For -i: (-i) * (-i) = 1\\nSince -i * -i = 1, the inverse of -i in the multiplicative group is -i.\\nAnswer:\\nD. -i'}}}"
      ]
     },
     "execution_count": 4,
     "metadata": {},
     "output_type": "execute_result"
    }
   ],
   "source": [
    "ta.state_manager.state"
   ]
  },
  {
   "cell_type": "code",
   "execution_count": null,
   "metadata": {},
   "outputs": [],
   "source": []
  }
 ],
 "metadata": {
  "kernelspec": {
   "display_name": ".venv",
   "language": "python",
   "name": "python3"
  },
  "language_info": {
   "codemirror_mode": {
    "name": "ipython",
    "version": 3
   },
   "file_extension": ".py",
   "mimetype": "text/x-python",
   "name": "python",
   "nbconvert_exporter": "python",
   "pygments_lexer": "ipython3",
   "version": "3.10.0"
  }
 },
 "nbformat": 4,
 "nbformat_minor": 2
}
