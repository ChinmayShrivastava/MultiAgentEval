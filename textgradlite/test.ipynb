{
 "cells": [
  {
   "cell_type": "code",
   "execution_count": 1,
   "metadata": {},
   "outputs": [],
   "source": [
    "from textgradlite.llmactions.agent import TextGradLiteAgent, MMLU\n",
    "\n",
    "q = MMLU(\n",
    "\tquestion=\"The inverse of -i in the multiplicative group, {1, -1, i , -i} is\",\n",
    "\tanswers=[\"1\", \"-1\", \"i\", \"-i\"],\n",
    "\tcorrect=\"C\"\n",
    ")\n",
    "\n",
    "ta = TextGradLiteAgent(question=q, max_iterations=2)"
   ]
  },
  {
   "cell_type": "code",
   "execution_count": 2,
   "metadata": {},
   "outputs": [
    {
     "name": "stdout",
     "output_type": "stream",
     "text": [
      "For the given multiple choice question with the options, reason step by step to get to the answer.\n",
      "For the output follow the format: \n",
      "Reasoning:\n",
      "$reasoning\n",
      "Answer:\n",
      "$answer\n",
      "Where `$reasoning` is the step by step reasoning to get to the answer and `$answer` is the letter from `ABCD` corresponding to the answer.\n",
      "Question:\n",
      "The inverse of -i in the multiplicative group, {1, -1, i , -i} is\n",
      "Options:\n",
      "A. 1\n",
      "B. -1\n",
      "C. i\n",
      "D. -i\n"
     ]
    }
   ],
   "source": [
    "print(ta._current_prompt)"
   ]
  },
  {
   "cell_type": "code",
   "execution_count": 3,
   "metadata": {},
   "outputs": [
    {
     "data": {
      "text/plain": [
       "{'initial_prompt': 'For the following multiple-choice question, reason step by step to determine the inverse of -i in the multiplicative group {1, -1, i, -i}.\\nFor the output, follow the format:\\nReasoning:\\n$reasoning\\nAnswer:\\n$answer\\nWhere `$reasoning` is the step-by-step reasoning to determine the inverse of -i, and `$answer` is the letter from `ABCD` corresponding to the answer.',\n",
       " 'response': \"Given that the multiplicative group is {1, -1, i, -i}, we want to find the inverse of -i.\\n\\nTo find the inverse of -i, we need to find an element in the group such that when multiplied by -i, the result is 1.\\n\\nLet's consider each element in the group:\\n1. 1: -i * 1 = -i ≠ 1\\n2. -1: -i * (-1) = i ≠ 1\\n3. i: -i * i = 1\\n\\nTherefore, the inverse of -i in the multiplicative group {1, -1, i, -i} is i.\\n\\nReasoning:\\nThe inverse of -i is the element that, when multiplied by -i, gives 1. Among the elements in the group, only i satisfies this condition.\\n\\nAnswer:\\nC. i\",\n",
       " 'feedback': 'Criteria for evaluating the prompt and response:\\n\\n1. Clarity of the prompt: The prompt should clearly state the question being asked and provide clear instructions on how to approach the problem.\\nFeedback: The prompt is clear in asking to determine the inverse of -i in the given multiplicative group.\\n\\n2. Relevance of the prompt to the topic: The prompt should be relevant to the topic being assessed and should test the intended concept.\\nFeedback: The prompt is relevant to the concept of finding inverses in a multiplicative group.\\n\\n3. Logical reasoning in the response: The response should provide logical and step-by-step reasoning to arrive at the correct answer.\\nFeedback: The response provides logical reasoning by considering each element in the group and determining which one satisfies the condition of being the inverse of -i.\\n\\n4. Accuracy of the final answer: The final answer provided in the response should be correct based on the reasoning provided.\\nFeedback: The final answer provided in the response, i, is accurate as it is the only element in the group that serves as the inverse of -i.\\n\\n5. Completeness of the response: The response should address all aspects of the prompt and provide a thorough explanation of the solution.\\nFeedback: The response is complete in that it considers all elements in the group and provides a clear explanation of why i is the inverse of -i.\\n\\nOverall, the prompt and response are well-structured and effectively address the concept of finding inverses in a multiplicative group. To further improve the prompt, it could include more complex examples or variations of the question to challenge students at different levels of understanding. Additionally, providing more context or real-world applications of finding inverses could enhance the relevance of the prompt to students.',\n",
       " 'updated_prompt': 'For the following multiple-choice question, reason step by step to determine the inverse of -i in the multiplicative group {1, -1, i, -i}.\\nFor the output, follow the format:\\nReasoning:\\n$reasoning\\nAnswer:\\n$answer\\nWhere `$reasoning` is the step-by-step reasoning to determine the inverse of -i, and `$answer` is the letter from `ABCD` corresponding to the answer.\\n\\nTo further challenge your understanding, consider how the concept of finding inverses in a multiplicative group can be applied in real-world scenarios or more complex mathematical problems. This will help deepen your understanding of the topic and its practical implications.'}"
      ]
     },
     "execution_count": 3,
     "metadata": {},
     "output_type": "execute_result"
    }
   ],
   "source": [
    "ta.run()"
   ]
  },
  {
   "cell_type": "code",
   "execution_count": 5,
   "metadata": {},
   "outputs": [
    {
     "data": {
      "text/plain": [
       "{'corequestion': '',\n",
       " 'hints': [],\n",
       " 'iterations': {0: {'initial_prompt': 'For the given multiple choice question with the options, reason step by step to get to the answer.\\nFor the output follow the format: \\nReasoning:\\n$reasoning\\nAnswer:\\n$answer\\nWhere `$reasoning` is the step by step reasoning to get to the answer and `$answer` is the letter from `ABCD` corresponding to the answer.\\nQuestion:\\nThe inverse of -i in the multiplicative group, {1, -1, i , -i} is\\nOptions:\\nA. 1\\nB. -1\\nC. i\\nD. -i',\n",
       "   'response': 'Reasoning:\\nThe multiplicative group {1, -1, i, -i} consists of the elements that can be multiplied together to get one of the elements in the group. The inverse of an element in a group is the element that when multiplied by the original element gives the identity element of the group, which is 1. \\nTo find the inverse of -i, we need to find an element in the group such that when multiplied by -i gives 1. \\nMultiplying -i by i gives -i*i = -i^2 = 1. \\nTherefore, the inverse of -i in the multiplicative group {1, -1, i, -i} is i.\\n\\nAnswer:\\nC. i',\n",
       "   'feedback': 'Criteria for evaluation:\\n1. Clarity of the question: The prompt should clearly state the question being asked and the context in which it is being asked. \\nFeedback: The question is clear and concise, providing the necessary information to understand what is being asked.\\n\\n2. Relevance of options: The options provided should be relevant to the question and cover all possible answers. \\nFeedback: The options provided are relevant and cover all possible answers that could be derived from the question.\\n\\n3. Logical reasoning: The prompt should guide the respondent to use logical reasoning to arrive at the correct answer. \\nFeedback: The reasoning provided in the response is logical and follows a step-by-step approach to find the inverse of -i in the given multiplicative group.\\n\\n4. Accuracy of the final answer: The final answer provided should be accurate and align with the logical reasoning used to arrive at it. \\nFeedback: The final answer provided in the response (i) is accurate and aligns with the logical reasoning used to find the inverse of -i in the multiplicative group.\\n\\n5. Clarity of explanation: The explanation provided should be clear and easy to follow, guiding the respondent through the steps to find the answer. \\nFeedback: The explanation provided in the response is clear and easy to follow, breaking down the steps to find the inverse of -i in the multiplicative group.\\n\\nOverall, the prompt is well-structured and effectively guides the respondent to use logical reasoning to arrive at the correct answer. The response provided demonstrates a clear understanding of the question and effectively applies logical reasoning to find the inverse of -i in the given multiplicative group. To further improve the prompt, additional examples or practice questions could be included to reinforce the concept of finding inverses in a multiplicative group.',\n",
       "   'updated_prompt': 'For the following multiple-choice question, reason step by step to determine the inverse of -i in the multiplicative group {1, -1, i, -i}.\\nFor the output, follow the format:\\nReasoning:\\n$reasoning\\nAnswer:\\n$answer\\nWhere `$reasoning` is the step-by-step reasoning to determine the inverse of -i, and `$answer` is the letter from `ABCD` corresponding to the answer.'},\n",
       "  1: {'initial_prompt': 'For the following multiple-choice question, reason step by step to determine the inverse of -i in the multiplicative group {1, -1, i, -i}.\\nFor the output, follow the format:\\nReasoning:\\n$reasoning\\nAnswer:\\n$answer\\nWhere `$reasoning` is the step-by-step reasoning to determine the inverse of -i, and `$answer` is the letter from `ABCD` corresponding to the answer.',\n",
       "   'response': \"Given that the multiplicative group is {1, -1, i, -i}, we want to find the inverse of -i.\\n\\nTo find the inverse of -i, we need to find an element in the group such that when multiplied by -i, the result is 1.\\n\\nLet's consider each element in the group:\\n1. 1: -i * 1 = -i ≠ 1\\n2. -1: -i * (-1) = i ≠ 1\\n3. i: -i * i = 1\\n\\nTherefore, the inverse of -i in the multiplicative group {1, -1, i, -i} is i.\\n\\nReasoning:\\nThe inverse of -i is the element that, when multiplied by -i, gives 1. Among the elements in the group, only i satisfies this condition.\\n\\nAnswer:\\nC. i\",\n",
       "   'feedback': 'Criteria for evaluating the prompt and response:\\n\\n1. Clarity of the prompt: The prompt should clearly state the question being asked and provide clear instructions on how to approach the problem.\\nFeedback: The prompt is clear in asking to determine the inverse of -i in the given multiplicative group.\\n\\n2. Relevance of the prompt to the topic: The prompt should be relevant to the topic being assessed and should test the intended concept.\\nFeedback: The prompt is relevant to the concept of finding inverses in a multiplicative group.\\n\\n3. Logical reasoning in the response: The response should provide logical and step-by-step reasoning to arrive at the correct answer.\\nFeedback: The response provides logical reasoning by considering each element in the group and determining which one satisfies the condition of being the inverse of -i.\\n\\n4. Accuracy of the final answer: The final answer provided in the response should be correct based on the reasoning provided.\\nFeedback: The final answer provided in the response, i, is accurate as it is the only element in the group that serves as the inverse of -i.\\n\\n5. Completeness of the response: The response should address all aspects of the prompt and provide a thorough explanation of the solution.\\nFeedback: The response is complete in that it considers all elements in the group and provides a clear explanation of why i is the inverse of -i.\\n\\nOverall, the prompt and response are well-structured and effectively address the concept of finding inverses in a multiplicative group. To further improve the prompt, it could include more complex examples or variations of the question to challenge students at different levels of understanding. Additionally, providing more context or real-world applications of finding inverses could enhance the relevance of the prompt to students.',\n",
       "   'updated_prompt': 'For the following multiple-choice question, reason step by step to determine the inverse of -i in the multiplicative group {1, -1, i, -i}.\\nFor the output, follow the format:\\nReasoning:\\n$reasoning\\nAnswer:\\n$answer\\nWhere `$reasoning` is the step-by-step reasoning to determine the inverse of -i, and `$answer` is the letter from `ABCD` corresponding to the answer.\\n\\nTo further challenge your understanding, consider how the concept of finding inverses in a multiplicative group can be applied in real-world scenarios or more complex mathematical problems. This will help deepen your understanding of the topic and its practical implications.'}}}"
      ]
     },
     "execution_count": 5,
     "metadata": {},
     "output_type": "execute_result"
    }
   ],
   "source": [
    "ta.state_manager.state"
   ]
  },
  {
   "cell_type": "code",
   "execution_count": null,
   "metadata": {},
   "outputs": [],
   "source": []
  }
 ],
 "metadata": {
  "kernelspec": {
   "display_name": ".venv",
   "language": "python",
   "name": "python3"
  },
  "language_info": {
   "codemirror_mode": {
    "name": "ipython",
    "version": 3
   },
   "file_extension": ".py",
   "mimetype": "text/x-python",
   "name": "python",
   "nbconvert_exporter": "python",
   "pygments_lexer": "ipython3",
   "version": "3.10.0"
  }
 },
 "nbformat": 4,
 "nbformat_minor": 2
}
