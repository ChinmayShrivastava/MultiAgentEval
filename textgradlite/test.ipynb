{
 "cells": [
  {
   "cell_type": "code",
   "execution_count": 1,
   "metadata": {},
   "outputs": [
    {
     "name": "stderr",
     "output_type": "stream",
     "text": [
      "INFO:root:Initalized TextGradLiteAgent with question: A company that produces facial tissues continually...\n"
     ]
    }
   ],
   "source": [
    "from llama_index.llms.openai import OpenAI\n",
    "\n",
    "from textgradlite.llmactions.agent import MMLU, TextGradLiteAgent\n",
    "\n",
    "# q = MMLU(\n",
    "# \tquestion=\"Which of these statements correctly explains bias?\",\n",
    "# \tanswers=[\n",
    "#         \"It describes a process that creates estimates that are too high on average or too low on average.\", \n",
    "#         \"It describes a process that results in a sample that does not represent the population.\", \n",
    "#         \"It describes a lack of randomization in the sampling process.\", \n",
    "#         \"It describes a sample that is not representative of the population.\"\n",
    "#     ],\n",
    "# \tcorrect=\"A\"\n",
    "# )\n",
    "\n",
    "q = MMLU(\n",
    "    question=\"A company that produces facial tissues continually monitors tissue strength. If the mean strength from sample data drops below a specified level, the production process is halted and the machinery inspected. Which of the following would result from a Type I error?\",\n",
    "    answers=[\n",
    "        \"Halting the production process when sufficient customer complaints are received.\",\n",
    "        \"Halting the production process when the tissue strength is below specifications.\",\n",
    "        \"Halting the production process when the tissue strength is within specifications.\",\n",
    "        \"Allowing the production process to continue when the tissue strength is below specifications.\"\n",
    "\t],\n",
    "    correct=\"C\"\n",
    ")\n",
    "\n",
    "ta = TextGradLiteAgent(\n",
    "    question=q, \n",
    "    max_iterations=2, \n",
    "    verbose=True, \n",
    "    llm=OpenAI(model=\"gpt-3.5-turbo\"), \n",
    "    evaluator=OpenAI(model=\"gpt-3.5-turbo\")\n",
    ")"
   ]
  },
  {
   "cell_type": "code",
   "execution_count": 2,
   "metadata": {},
   "outputs": [
    {
     "name": "stdout",
     "output_type": "stream",
     "text": [
      "For the given multiple choice question with the options, reason step by step to get to the answer.\n",
      "For the output follow the format: \n",
      "Reasoning:\n",
      "$reasoning\n",
      "Answer:\n",
      "$answer\n",
      "Where `$reasoning` is the step by step reasoning to get to the answer and `$answer` is the letter from `ABCD` corresponding to the answer.\n",
      "Question:\n",
      "A company that produces facial tissues continually monitors tissue strength. If the mean strength from sample data drops below a specified level, the production process is halted and the machinery inspected. Which of the following would result from a Type I error?\n",
      "Options:\n",
      "A. Halting the production process when sufficient customer complaints are received.\n",
      "B. Halting the production process when the tissue strength is below specifications.\n",
      "C. Halting the production process when the tissue strength is within specifications.\n",
      "D. Allowing the production process to continue when the tissue strength is below specifications.\n"
     ]
    }
   ],
   "source": [
    "print(ta._current_prompt)"
   ]
  },
  {
   "cell_type": "code",
   "execution_count": 3,
   "metadata": {},
   "outputs": [
    {
     "name": "stderr",
     "output_type": "stream",
     "text": [
      "INFO:root:Running TextGradLiteAgent\n",
      "INFO:root:Iteration: 1\n",
      "INFO:httpx:HTTP Request: POST https://api.openai.com/v1/chat/completions \"HTTP/1.1 200 OK\"\n",
      "INFO:httpx:HTTP Request: POST https://api.openai.com/v1/chat/completions \"HTTP/1.1 200 OK\"\n",
      "INFO:httpx:HTTP Request: POST https://api.openai.com/v1/chat/completions \"HTTP/1.1 200 OK\"\n",
      "INFO:root:Iteration: 2\n",
      "INFO:httpx:HTTP Request: POST https://api.openai.com/v1/chat/completions \"HTTP/1.1 200 OK\"\n",
      "INFO:httpx:HTTP Request: POST https://api.openai.com/v1/chat/completions \"HTTP/1.1 200 OK\"\n",
      "INFO:httpx:HTTP Request: POST https://api.openai.com/v1/chat/completions \"HTTP/1.1 200 OK\"\n"
     ]
    },
    {
     "data": {
      "text/plain": [
       "{'initial_prompt': 'For the given multiple choice question with the options, reason step by step to get to the answer.\\nFor the output follow the format: \\nReasoning:\\n$reasoning\\nAnswer:\\n$answer\\nWhere `$reasoning` is the step by step reasoning to get to the answer and `$answer` is the letter from `ABCD` corresponding to the answer.\\nQuestion:\\nA company that produces facial tissues continually monitors tissue strength. If the mean strength from sample data drops below a specified level, the production process is halted and the machinery inspected. Which of the following would result from a Type I error?\\nOptions:\\nA. Halting the production process when sufficient customer complaints are received.\\nB. Halting the production process when the tissue strength is below specifications.\\nC. Halting the production process when the tissue strength is within specifications.\\nD. Allowing the production process to continue when the tissue strength is below specifications.\\nFeedback:\\nCriteria for evaluating the prompt and response:\\n\\n1. Clarity of the question: The prompt should clearly state the scenario and the concept being tested.\\nFeedback: The prompt effectively presents the scenario of monitoring tissue strength and the consequences of a Type I error in this context.\\n\\n2. Relevance of the options: The options provided should be relevant to the scenario and test the understanding of the concept being evaluated.\\nFeedback: The options provided are relevant to the scenario of monitoring tissue strength and the consequences of a Type I error in this context.\\n\\n3. Logical reasoning: The response should demonstrate a logical step-by-step reasoning process to arrive at the correct answer.\\nFeedback: The reasoning provided in the response effectively explains why halting the production process when the tissue strength is within specifications would result from a Type I error.\\n\\n4. Correct answer selection: The final answer chosen should align with the concept being tested and the scenario presented in the question.\\nFeedback: The final answer selected (C. Halting the production process when the tissue strength is within specifications) is correct based on the explanation provided in the reasoning.\\n\\nOverall, the prompt effectively tests the understanding of Type I errors in the context of monitoring tissue strength in a production process. The response demonstrates a clear understanding of the concept and provides a logical explanation for the correct answer. To improve the robustness of the prompt, it could include additional scenarios or examples to further test the understanding of Type I errors in different contexts. Additionally, providing more detailed feedback on why the other options are incorrect could enhance the learning experience for the individual answering the question.',\n",
       " 'response': 'Reasoning:\\nA Type I error occurs when the null hypothesis is rejected when it is actually true. In this scenario, the null hypothesis would be that the tissue strength is within specifications. Therefore, halting the production process when the tissue strength is within specifications would be a Type I error because the production process is being stopped even though the tissue strength is actually acceptable.\\n\\nAnswer:\\nC. Halting the production process when the tissue strength is within specifications.',\n",
       " 'feedback': 'The reasoning provided in the response is clear and logical, demonstrating a good understanding of Type I errors in the context of monitoring tissue strength. The final answer chosen aligns with the concept being tested and the scenario presented in the question. \\n\\nTo further improve the response, it could be beneficial to explicitly mention the consequences of a Type I error in this specific scenario. Explaining that halting the production process when the tissue strength is within specifications could lead to unnecessary delays and inspections, impacting the efficiency of the production process, would enhance the depth of the explanation.\\n\\nAdditionally, providing a brief explanation of why the other options are incorrect could help reinforce the understanding of Type I errors and strengthen the learning experience. For example, explaining why options A, B, and D do not align with the concept of Type I errors in the context of monitoring tissue strength would further solidify the understanding of the correct answer. \\n\\nOverall, the response effectively addresses the prompt and provides a strong rationale for the final answer. By incorporating additional details and explanations, the response could be further enhanced to deepen the understanding of Type I errors in this scenario.',\n",
       " 'updated_prompt': 'For the given multiple choice question with the options, reason step by step to get to the answer and explain why the other options are incorrect.\\nFor the output follow the format: \\nReasoning:\\n$reasoning\\nAnswer:\\n$answer\\nWhere `$reasoning` is the step by step reasoning to get to the answer and `$answer` is the letter from `ABCD` corresponding to the answer.\\nQuestion:\\nA company that produces facial tissues continually monitors tissue strength. If the mean strength from sample data drops below a specified level, the production process is halted and the machinery inspected. Which of the following would result from a Type I error?\\nOptions:\\nA. Halting the production process when sufficient customer complaints are received.\\nB. Halting the production process when the tissue strength is below specifications.\\nC. Halting the production process when the tissue strength is within specifications.\\nD. Allowing the production process to continue when the tissue strength is below specifications.'}"
      ]
     },
     "execution_count": 3,
     "metadata": {},
     "output_type": "execute_result"
    }
   ],
   "source": [
    "ta.run()"
   ]
  },
  {
   "cell_type": "code",
   "execution_count": 4,
   "metadata": {},
   "outputs": [
    {
     "data": {
      "text/plain": [
       "{'corequestion': '',\n",
       " 'hints': [],\n",
       " 'iterations': {0: {'initial_prompt': 'For the given multiple choice question with the options, reason step by step to get to the answer.\\nFor the output follow the format: \\nReasoning:\\n$reasoning\\nAnswer:\\n$answer\\nWhere `$reasoning` is the step by step reasoning to get to the answer and `$answer` is the letter from `ABCD` corresponding to the answer.\\nQuestion:\\nA company that produces facial tissues continually monitors tissue strength. If the mean strength from sample data drops below a specified level, the production process is halted and the machinery inspected. Which of the following would result from a Type I error?\\nOptions:\\nA. Halting the production process when sufficient customer complaints are received.\\nB. Halting the production process when the tissue strength is below specifications.\\nC. Halting the production process when the tissue strength is within specifications.\\nD. Allowing the production process to continue when the tissue strength is below specifications.',\n",
       "   'response': 'Reasoning:\\nA Type I error occurs when the null hypothesis is rejected when it is actually true. In this scenario, the null hypothesis would be that the tissue strength is within specifications. Therefore, a Type I error would be halting the production process when the tissue strength is within specifications.\\n\\nAnswer:\\nC. Halting the production process when the tissue strength is within specifications.',\n",
       "   'feedback': 'Criteria for evaluating the prompt and response:\\n\\n1. Clarity of the question: The prompt should clearly state the scenario and the concept being tested.\\nFeedback: The prompt effectively presents the scenario of monitoring tissue strength and the consequences of a Type I error in this context.\\n\\n2. Relevance of the options: The options provided should be relevant to the scenario and test the understanding of the concept being evaluated.\\nFeedback: The options provided are relevant to the scenario of monitoring tissue strength and the consequences of a Type I error in this context.\\n\\n3. Logical reasoning: The response should demonstrate a logical step-by-step reasoning process to arrive at the correct answer.\\nFeedback: The reasoning provided in the response effectively explains why halting the production process when the tissue strength is within specifications would result from a Type I error.\\n\\n4. Correct answer selection: The final answer chosen should align with the concept being tested and the scenario presented in the question.\\nFeedback: The final answer selected (C. Halting the production process when the tissue strength is within specifications) is correct based on the explanation provided in the reasoning.\\n\\nOverall, the prompt effectively tests the understanding of Type I errors in the context of monitoring tissue strength in a production process. The response demonstrates a clear understanding of the concept and provides a logical explanation for the correct answer. To improve the robustness of the prompt, it could include additional scenarios or examples to further test the understanding of Type I errors in different contexts. Additionally, providing more detailed feedback on why the other options are incorrect could enhance the learning experience for the individual answering the question.',\n",
       "   'updated_prompt': 'For the given multiple choice question with the options, reason step by step to get to the answer.\\nFor the output follow the format: \\nReasoning:\\n$reasoning\\nAnswer:\\n$answer\\nWhere `$reasoning` is the step by step reasoning to get to the answer and `$answer` is the letter from `ABCD` corresponding to the answer.\\nQuestion:\\nA company that produces facial tissues continually monitors tissue strength. If the mean strength from sample data drops below a specified level, the production process is halted and the machinery inspected. Which of the following would result from a Type I error?\\nOptions:\\nA. Halting the production process when sufficient customer complaints are received.\\nB. Halting the production process when the tissue strength is below specifications.\\nC. Halting the production process when the tissue strength is within specifications.\\nD. Allowing the production process to continue when the tissue strength is below specifications.\\nFeedback:\\nCriteria for evaluating the prompt and response:\\n\\n1. Clarity of the question: The prompt should clearly state the scenario and the concept being tested.\\nFeedback: The prompt effectively presents the scenario of monitoring tissue strength and the consequences of a Type I error in this context.\\n\\n2. Relevance of the options: The options provided should be relevant to the scenario and test the understanding of the concept being evaluated.\\nFeedback: The options provided are relevant to the scenario of monitoring tissue strength and the consequences of a Type I error in this context.\\n\\n3. Logical reasoning: The response should demonstrate a logical step-by-step reasoning process to arrive at the correct answer.\\nFeedback: The reasoning provided in the response effectively explains why halting the production process when the tissue strength is within specifications would result from a Type I error.\\n\\n4. Correct answer selection: The final answer chosen should align with the concept being tested and the scenario presented in the question.\\nFeedback: The final answer selected (C. Halting the production process when the tissue strength is within specifications) is correct based on the explanation provided in the reasoning.\\n\\nOverall, the prompt effectively tests the understanding of Type I errors in the context of monitoring tissue strength in a production process. The response demonstrates a clear understanding of the concept and provides a logical explanation for the correct answer. To improve the robustness of the prompt, it could include additional scenarios or examples to further test the understanding of Type I errors in different contexts. Additionally, providing more detailed feedback on why the other options are incorrect could enhance the learning experience for the individual answering the question.'},\n",
       "  1: {'initial_prompt': 'For the given multiple choice question with the options, reason step by step to get to the answer.\\nFor the output follow the format: \\nReasoning:\\n$reasoning\\nAnswer:\\n$answer\\nWhere `$reasoning` is the step by step reasoning to get to the answer and `$answer` is the letter from `ABCD` corresponding to the answer.\\nQuestion:\\nA company that produces facial tissues continually monitors tissue strength. If the mean strength from sample data drops below a specified level, the production process is halted and the machinery inspected. Which of the following would result from a Type I error?\\nOptions:\\nA. Halting the production process when sufficient customer complaints are received.\\nB. Halting the production process when the tissue strength is below specifications.\\nC. Halting the production process when the tissue strength is within specifications.\\nD. Allowing the production process to continue when the tissue strength is below specifications.\\nFeedback:\\nCriteria for evaluating the prompt and response:\\n\\n1. Clarity of the question: The prompt should clearly state the scenario and the concept being tested.\\nFeedback: The prompt effectively presents the scenario of monitoring tissue strength and the consequences of a Type I error in this context.\\n\\n2. Relevance of the options: The options provided should be relevant to the scenario and test the understanding of the concept being evaluated.\\nFeedback: The options provided are relevant to the scenario of monitoring tissue strength and the consequences of a Type I error in this context.\\n\\n3. Logical reasoning: The response should demonstrate a logical step-by-step reasoning process to arrive at the correct answer.\\nFeedback: The reasoning provided in the response effectively explains why halting the production process when the tissue strength is within specifications would result from a Type I error.\\n\\n4. Correct answer selection: The final answer chosen should align with the concept being tested and the scenario presented in the question.\\nFeedback: The final answer selected (C. Halting the production process when the tissue strength is within specifications) is correct based on the explanation provided in the reasoning.\\n\\nOverall, the prompt effectively tests the understanding of Type I errors in the context of monitoring tissue strength in a production process. The response demonstrates a clear understanding of the concept and provides a logical explanation for the correct answer. To improve the robustness of the prompt, it could include additional scenarios or examples to further test the understanding of Type I errors in different contexts. Additionally, providing more detailed feedback on why the other options are incorrect could enhance the learning experience for the individual answering the question.',\n",
       "   'response': 'Reasoning:\\nA Type I error occurs when the null hypothesis is rejected when it is actually true. In this scenario, the null hypothesis would be that the tissue strength is within specifications. Therefore, halting the production process when the tissue strength is within specifications would be a Type I error because the production process is being stopped even though the tissue strength is actually acceptable.\\n\\nAnswer:\\nC. Halting the production process when the tissue strength is within specifications.',\n",
       "   'feedback': 'The reasoning provided in the response is clear and logical, demonstrating a good understanding of Type I errors in the context of monitoring tissue strength. The final answer chosen aligns with the concept being tested and the scenario presented in the question. \\n\\nTo further improve the response, it could be beneficial to explicitly mention the consequences of a Type I error in this specific scenario. Explaining that halting the production process when the tissue strength is within specifications could lead to unnecessary delays and inspections, impacting the efficiency of the production process, would enhance the depth of the explanation.\\n\\nAdditionally, providing a brief explanation of why the other options are incorrect could help reinforce the understanding of Type I errors and strengthen the learning experience. For example, explaining why options A, B, and D do not align with the concept of Type I errors in the context of monitoring tissue strength would further solidify the understanding of the correct answer. \\n\\nOverall, the response effectively addresses the prompt and provides a strong rationale for the final answer. By incorporating additional details and explanations, the response could be further enhanced to deepen the understanding of Type I errors in this scenario.',\n",
       "   'updated_prompt': 'For the given multiple choice question with the options, reason step by step to get to the answer and explain why the other options are incorrect.\\nFor the output follow the format: \\nReasoning:\\n$reasoning\\nAnswer:\\n$answer\\nWhere `$reasoning` is the step by step reasoning to get to the answer and `$answer` is the letter from `ABCD` corresponding to the answer.\\nQuestion:\\nA company that produces facial tissues continually monitors tissue strength. If the mean strength from sample data drops below a specified level, the production process is halted and the machinery inspected. Which of the following would result from a Type I error?\\nOptions:\\nA. Halting the production process when sufficient customer complaints are received.\\nB. Halting the production process when the tissue strength is below specifications.\\nC. Halting the production process when the tissue strength is within specifications.\\nD. Allowing the production process to continue when the tissue strength is below specifications.'}}}"
      ]
     },
     "execution_count": 4,
     "metadata": {},
     "output_type": "execute_result"
    }
   ],
   "source": [
    "ta.state_manager.state"
   ]
  },
  {
   "cell_type": "code",
   "execution_count": 5,
   "metadata": {},
   "outputs": [
    {
     "name": "stdout",
     "output_type": "stream",
     "text": [
      "For the given multiple choice question with the options, reason step by step to get to the answer and explain why the other options are incorrect.\n",
      "For the output follow the format: \n",
      "Reasoning:\n",
      "$reasoning\n",
      "Answer:\n",
      "$answer\n",
      "Where `$reasoning` is the step by step reasoning to get to the answer and `$answer` is the letter from `ABCD` corresponding to the answer.\n",
      "Question:\n",
      "A company that produces facial tissues continually monitors tissue strength. If the mean strength from sample data drops below a specified level, the production process is halted and the machinery inspected. Which of the following would result from a Type I error?\n",
      "Options:\n",
      "A. Halting the production process when sufficient customer complaints are received.\n",
      "B. Halting the production process when the tissue strength is below specifications.\n",
      "C. Halting the production process when the tissue strength is within specifications.\n",
      "D. Allowing the production process to continue when the tissue strength is below specifications.\n"
     ]
    }
   ],
   "source": [
    "print(ta.state_manager.state[\"iterations\"][1][\"updated_prompt\"])"
   ]
  },
  {
   "cell_type": "code",
   "execution_count": 9,
   "metadata": {},
   "outputs": [
    {
     "name": "stderr",
     "output_type": "stream",
     "text": [
      "INFO:httpx:HTTP Request: POST https://api.openai.com/v1/chat/completions \"HTTP/1.1 200 OK\"\n"
     ]
    },
    {
     "name": "stdout",
     "output_type": "stream",
     "text": [
      "Reasoning:\n",
      "A Type I error occurs when the null hypothesis is rejected when it is actually true. In this scenario, the null hypothesis would be that the tissue strength is within specifications. Therefore, a Type I error would be halting the production process when the tissue strength is within specifications.\n",
      "\n",
      "Answer:\n",
      "C. Halting the production process when the tissue strength is within specifications.\n"
     ]
    }
   ],
   "source": [
    "llm = OpenAI(model=\"gpt-3.5-turbo\")\n",
    "\n",
    "print(llm.complete(ta.state_manager.state[\"iterations\"][1][\"updated_prompt\"]).text)"
   ]
  },
  {
   "cell_type": "code",
   "execution_count": null,
   "metadata": {},
   "outputs": [],
   "source": []
  },
  {
   "cell_type": "code",
   "execution_count": null,
   "metadata": {},
   "outputs": [],
   "source": []
  },
  {
   "cell_type": "code",
   "execution_count": null,
   "metadata": {},
   "outputs": [],
   "source": []
  }
 ],
 "metadata": {
  "kernelspec": {
   "display_name": ".venv",
   "language": "python",
   "name": "python3"
  },
  "language_info": {
   "codemirror_mode": {
    "name": "ipython",
    "version": 3
   },
   "file_extension": ".py",
   "mimetype": "text/x-python",
   "name": "python",
   "nbconvert_exporter": "python",
   "pygments_lexer": "ipython3",
   "version": "3.11.5"
  }
 },
 "nbformat": 4,
 "nbformat_minor": 2
}
