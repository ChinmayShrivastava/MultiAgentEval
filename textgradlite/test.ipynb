{
 "cells": [
  {
   "cell_type": "code",
   "execution_count": 1,
   "metadata": {},
   "outputs": [
    {
     "name": "stderr",
     "output_type": "stream",
     "text": [
      "INFO:root:Initalized TextGradLiteAgent with question: Which of these statements correctly explains bias?...\n"
     ]
    }
   ],
   "source": [
    "from llama_index.llms.openai import OpenAI\n",
    "\n",
    "from textgradlite.llmactions.agent import MMLU, TextGradLiteAgent\n",
    "\n",
    "q = MMLU(\n",
    "\tquestion=\"Which of these statements correctly explains bias?\",\n",
    "\tanswers=[\n",
    "        \"It describes a process that creates estimates that are too high on average or too low on average.\", \n",
    "        \"It describes a process that results in a sample that does not represent the population.\", \n",
    "        \"It describes a lack of randomization in the sampling process.\", \n",
    "        \"It describes a sample that is not representative of the population.\"\n",
    "    ],\n",
    "\tcorrect=\"A\"\n",
    ")\n",
    "\n",
    "# q = MMLU(\n",
    "#     question=\"A company that produces facial tissues continually monitors tissue strength. If the mean strength from sample data drops below a specified level, the production process is halted and the machinery inspected. Which of the following would result from a Type I error?\",\n",
    "#     answers=[\n",
    "#         \"Halting the production process when sufficient customer complaints are received.\",\n",
    "#         \"Halting the production process when the tissue strength is below specifications.\",\n",
    "#         \"Halting the production process when the tissue strength is within specifications.\",\n",
    "#         \"Allowing the production process to continue when the tissue strength is below specifications.\"\n",
    "# \t],\n",
    "#     correct=\"C\"\n",
    "# )\n",
    "\n",
    "ta = TextGradLiteAgent(\n",
    "    question=q, \n",
    "    max_iterations=2, \n",
    "    verbose=True, \n",
    "    llm=OpenAI(model=\"gpt-3.5-turbo\"), \n",
    "    evaluator=OpenAI(model=\"gpt-4o\")\n",
    ")"
   ]
  },
  {
   "cell_type": "code",
   "execution_count": 2,
   "metadata": {},
   "outputs": [
    {
     "name": "stdout",
     "output_type": "stream",
     "text": [
      "For the given multiple choice question with the options, reason step by step to get to the answer.\n",
      "For the output follow the format: \n",
      "Reasoning:\n",
      "$reasoning\n",
      "Answer:\n",
      "$answer\n",
      "Where `$reasoning` is the step by step reasoning to get to the answer and `$answer` is the letter from `ABCD` corresponding to the answer.\n",
      "Question:\n",
      "Which of these statements correctly explains bias?\n",
      "Options:\n",
      "A. It describes a process that creates estimates that are too high on average or too low on average.\n",
      "B. It describes a process that results in a sample that does not represent the population.\n",
      "C. It describes a lack of randomization in the sampling process.\n",
      "D. It describes a sample that is not representative of the population.\n"
     ]
    }
   ],
   "source": [
    "print(ta._current_prompt)"
   ]
  },
  {
   "cell_type": "code",
   "execution_count": 3,
   "metadata": {},
   "outputs": [
    {
     "name": "stderr",
     "output_type": "stream",
     "text": [
      "INFO:httpx:HTTP Request: POST https://api.openai.com/v1/chat/completions \"HTTP/1.1 200 OK\"\n"
     ]
    },
    {
     "name": "stdout",
     "output_type": "stream",
     "text": [
      "Reasoning:\n",
      "Bias in statistics refers to a systematic error that skews the results in a particular direction. \n",
      "A. This statement describes bias as creating estimates that are consistently too high or too low, which is correct but not a complete explanation of bias.\n",
      "B. This statement correctly explains bias as resulting in a sample that does not accurately represent the population, which is a key aspect of bias.\n",
      "C. This statement describes a lack of randomization in the sampling process, which is related to bias but not a complete explanation.\n",
      "D. This statement also correctly explains bias as a sample that is not representative of the population, which is a key characteristic of bias.\n",
      "\n",
      "Answer:\n",
      "B. It describes a process that results in a sample that does not represent the population.\n"
     ]
    }
   ],
   "source": [
    "llm = OpenAI(model=\"gpt-3.5-turbo\")\n",
    "\n",
    "print(llm.complete(ta._current_prompt))"
   ]
  },
  {
   "cell_type": "code",
   "execution_count": 4,
   "metadata": {},
   "outputs": [
    {
     "name": "stderr",
     "output_type": "stream",
     "text": [
      "INFO:root:Running TextGradLiteAgent\n",
      "INFO:root:Iteration: 1\n",
      "INFO:httpx:HTTP Request: POST https://api.openai.com/v1/chat/completions \"HTTP/1.1 200 OK\"\n",
      "INFO:httpx:HTTP Request: POST https://api.openai.com/v1/chat/completions \"HTTP/1.1 200 OK\"\n",
      "INFO:httpx:HTTP Request: POST https://api.openai.com/v1/chat/completions \"HTTP/1.1 200 OK\"\n",
      "INFO:root:Iteration: 2\n",
      "INFO:httpx:HTTP Request: POST https://api.openai.com/v1/chat/completions \"HTTP/1.1 200 OK\"\n",
      "INFO:httpx:HTTP Request: POST https://api.openai.com/v1/chat/completions \"HTTP/1.1 200 OK\"\n",
      "INFO:httpx:HTTP Request: POST https://api.openai.com/v1/chat/completions \"HTTP/1.1 200 OK\"\n"
     ]
    },
    {
     "data": {
      "text/plain": [
       "{'initial_prompt': \"For the given multiple-choice question with the options, reason step by step to get to the answer. Ensure that each option is evaluated comprehensively and clearly, providing detailed explanations for why each option is correct or incorrect. Discuss different aspects of the concept in question, including various types of bias and how they can affect the results. Ensure consistency in the evaluation of each option. For the output, follow the format:\\nReasoning:\\n$reasoning\\nAnswer:\\n$answer\\nWhere `$reasoning` is the step-by-step reasoning to get to the answer and `$answer` is the letter from `ABCD` corresponding to the answer.\\n\\nQuestion:\\nWhich of these statements correctly explains bias?\\nOptions:\\nA. It describes a process that creates estimates that are too high on average or too low on average.\\nB. It describes a process that results in a sample that does not represent the population.\\nC. It describes a lack of randomization in the sampling process.\\nD. It describes a sample that is not representative of the population.\\n\\n### Example Response:\\n\\nReasoning:\\nBias in statistics refers to a systematic error that skews the results in a particular direction. Let's evaluate each option:\\n\\nA. This statement describes bias as creating estimates that are consistently too high or too low. While this is a characteristic of bias, it does not fully capture the concept. Bias can also occur in other forms, such as selection bias or measurement bias, which are not necessarily about estimates being too high or too low. Therefore, this option is not a complete explanation of bias.\\n\\nB. This statement correctly explains bias as resulting in a sample that does not accurately represent the population. This is a key aspect of bias because it highlights how the sample's lack of representativeness can lead to systematic errors in the results. This explanation encompasses both selection bias and other forms of bias that affect the representativeness of the sample.\\n\\nC. This statement describes a lack of randomization in the sampling process. While a lack of randomization can lead to bias, it is not a complete explanation of bias itself. Bias can also occur even in randomized processes if there are systematic errors in measurement or data collection. Therefore, this option is too narrow to fully explain bias.\\n\\nD. This statement also correctly explains bias as a sample that is not representative of the population. However, it is similar to option B. The key difference is that option B focuses on the process that leads to an unrepresentative sample, while option D focuses on the outcome. Since understanding the process is crucial for addressing bias, option B provides a more comprehensive explanation.\\n\\nGiven these evaluations, option B is the most comprehensive and accurate explanation of bias because it addresses the process that leads to a biased sample.\\n\\nAnswer:\\nB\",\n",
       " 'response': \"Reasoning:\\nBias in statistics is a systematic error that skews results in a particular direction. Let's evaluate each option:\\n\\nA. This statement describes bias as creating estimates that are consistently too high or too low. While this is one aspect of bias, it does not fully encompass the concept. Bias can also manifest in other ways, such as selection bias or measurement bias, which may not necessarily result in estimates being too high or too low. Therefore, this option is not a complete explanation of bias.\\n\\nB. This statement correctly explains bias as resulting in a sample that does not represent the population accurately. Bias can lead to a sample that is not reflective of the population, causing systematic errors in the results. This explanation covers various types of bias that affect the representativeness of the sample, making it a comprehensive understanding of bias.\\n\\nC. This statement describes a lack of randomization in the sampling process. While a lack of randomization can introduce bias, bias is not solely defined by the absence of randomization. Bias can arise from various sources, including non-random sampling methods, measurement errors, or confounding variables. Therefore, this option is too narrow to fully explain bias.\\n\\nD. This statement also correctly explains bias as a sample that is not representative of the population. However, it focuses more on the outcome of bias rather than the process that leads to it. Understanding the process is crucial for identifying and addressing bias effectively. While the outcome is important, option B provides a more comprehensive explanation by addressing the process that leads to bias.\\n\\nConsidering these evaluations, option B provides the most comprehensive and accurate explanation of bias by highlighting how it leads to a sample that does not accurately represent the population.\\n\\nAnswer:\\nB\",\n",
       " 'feedback': \"### Detailed Feedback:\\n\\n#### Criteria for Evaluation:\\n\\n1. **Comprehensiveness of Reasoning**:\\n   - **Feedback**: The reasoning provided in both the example response and the generated response is thorough and evaluates each option in detail. However, the prompt could be improved by explicitly asking for the inclusion of examples or scenarios to illustrate each type of bias mentioned. This would enhance the comprehensiveness and clarity of the reasoning.\\n\\n2. **Clarity and Consistency**:\\n   - **Feedback**: The reasoning is clear and consistent across both responses. Each option is evaluated systematically, and the rationale for why each option is correct or incorrect is well-articulated. To further improve clarity, the prompt could instruct the evaluator to use bullet points or numbered lists for each point of evaluation, making it easier to follow.\\n\\n3. **Depth of Conceptual Understanding**:\\n   - **Feedback**: Both responses demonstrate a solid understanding of the concept of bias, including different types of bias such as selection bias and measurement bias. However, the prompt could be enhanced by asking the evaluator to discuss the implications of each type of bias on statistical results and decision-making processes. This would deepen the conceptual understanding presented in the reasoning.\\n\\n4. **Evaluation of Each Option**:\\n   - **Feedback**: Each option is evaluated comprehensively, but the prompt could be improved by asking the evaluator to explicitly compare and contrast similar options (e.g., B and D in this case). This would help in highlighting subtle differences and making a more informed choice.\\n\\n5. **Justification of the Final Answer**:\\n   - **Feedback**: The final answer is well-justified in both responses. However, the prompt could be improved by asking the evaluator to summarize the key points that led to the final decision, reinforcing the rationale behind the chosen answer.\\n\\n6. **Inclusion of Different Aspects of Bias**:\\n   - **Feedback**: The responses touch upon different aspects of bias but could benefit from a more structured approach. The prompt could ask the evaluator to categorize the types of bias discussed (e.g., selection bias, measurement bias) and provide specific examples for each category.\\n\\n### Improved Prompt:\\n\\nFor the given multiple-choice question with the options, reason step by step to get to the answer. Ensure that each option is evaluated comprehensively and clearly, providing detailed explanations for why each option is correct or incorrect. Discuss different aspects of the concept in question, including various types of bias and how they can affect the results. Ensure consistency in the evaluation of each option. Use bullet points or numbered lists for clarity. Include examples or scenarios to illustrate each type of bias mentioned. Compare and contrast similar options to highlight subtle differences. Summarize the key points that led to the final decision. For the output, follow the format:\\n\\nReasoning:\\n$reasoning\\nAnswer:\\n$answer\\n\\nWhere `$reasoning` is the step-by-step reasoning to get to the answer and `$answer` is the letter from `ABCD` corresponding to the answer.\\n\\n### Example Response:\\n\\nReasoning:\\nBias in statistics refers to a systematic error that skews the results in a particular direction. Let's evaluate each option:\\n\\n1. **Option A**:\\n   - This statement describes bias as creating estimates that are consistently too high or too low.\\n   - **Evaluation**: While this is a characteristic of bias, it does not fully capture the concept. Bias can also occur in other forms, such as selection bias or measurement bias, which are not necessarily about estimates being too high or too low.\\n   - **Example**: Measurement bias can occur if a scale is consistently off by a certain amount, regardless of whether the estimates are too high or too low.\\n   - **Conclusion**: Therefore, this option is not a complete explanation of bias.\\n\\n2. **Option B**:\\n   - This statement correctly explains bias as resulting in a sample that does not accurately represent the population.\\n   - **Evaluation**: This is a key aspect of bias because it highlights how the sample's lack of representativeness can lead to systematic errors in the results.\\n   - **Example**: Selection bias can occur if a survey only includes respondents from a specific demographic, leading to unrepresentative results.\\n   - **Conclusion**: This explanation encompasses both selection bias and other forms of bias that affect the representativeness of the sample.\\n\\n3. **Option C**:\\n   - This statement describes a lack of randomization in the sampling process.\\n   - **Evaluation**: While a lack of randomization can lead to bias, it is not a complete explanation of bias itself. Bias can also occur even in randomized processes if there are systematic errors in measurement or data collection.\\n   - **Example**: Even with random sampling, measurement bias can occur if the data collection method is flawed.\\n   - **Conclusion**: Therefore, this option is too narrow to fully explain bias.\\n\\n4. **Option D**:\\n   - This statement also correctly explains bias as a sample that is not representative of the population.\\n   - **Evaluation**: However, it is similar to option B. The key difference is that option B focuses on the process that leads to an unrepresentative sample, while option D focuses on the outcome.\\n   - **Example**: If a survey's methodology inherently excludes certain groups, the outcome will be a biased sample.\\n   - **Conclusion**: Since understanding the process is crucial for addressing bias, option B provides a more comprehensive explanation.\\n\\n**Summary**:\\n- Option A is incomplete as it only addresses one aspect of bias.\\n- Option B is comprehensive as it addresses the process leading to bias.\\n- Option C is too narrow, focusing only on randomization.\\n- Option D is correct but less comprehensive than B.\\n\\nAnswer:\\nB\",\n",
       " 'updated_prompt': \"For the given multiple-choice question with the options, reason step by step to get to the answer. Ensure that each option is evaluated comprehensively and clearly, providing detailed explanations for why each option is correct or incorrect. Discuss different aspects of the concept in question, including various types of bias and how they can affect the results. Ensure consistency in the evaluation of each option. Use bullet points or numbered lists for clarity. Include examples or scenarios to illustrate each type of bias mentioned. Compare and contrast similar options to highlight subtle differences. Summarize the key points that led to the final decision. For the output, follow the format:\\n\\nReasoning:\\n$reasoning\\nAnswer:\\n$answer\\n\\nWhere `$reasoning` is the step-by-step reasoning to get to the answer and `$answer` is the letter from `ABCD` corresponding to the answer.\\n\\n### Example Response:\\n\\nReasoning:\\nBias in statistics refers to a systematic error that skews the results in a particular direction. Let's evaluate each option:\\n\\n1. **Option A**:\\n   - This statement describes bias as creating estimates that are consistently too high or too low.\\n   - **Evaluation**: While this is a characteristic of bias, it does not fully capture the concept. Bias can also occur in other forms, such as selection bias or measurement bias, which are not necessarily about estimates being too high or too low.\\n   - **Example**: Measurement bias can occur if a scale is consistently off by a certain amount, regardless of whether the estimates are too high or too low.\\n   - **Conclusion**: Therefore, this option is not a complete explanation of bias.\\n\\n2. **Option B**:\\n   - This statement correctly explains bias as resulting in a sample that does not accurately represent the population.\\n   - **Evaluation**: This is a key aspect of bias because it highlights how the sample's lack of representativeness can lead to systematic errors in the results.\\n   - **Example**: Selection bias can occur if a survey only includes respondents from a specific demographic, leading to unrepresentative results.\\n   - **Conclusion**: This explanation encompasses both selection bias and other forms of bias that affect the representativeness of the sample.\\n\\n3. **Option C**:\\n   - This statement describes a lack of randomization in the sampling process.\\n   - **Evaluation**: While a lack of randomization can lead to bias, it is not a complete explanation of bias itself. Bias can also occur even in randomized processes if there are systematic errors in measurement or data collection.\\n   - **Example**: Even with random sampling, measurement bias can occur if the data collection method is flawed.\\n   - **Conclusion**: Therefore, this option is too narrow to fully explain bias.\\n\\n4. **Option D**:\\n   - This statement also correctly explains bias as a sample that is not representative of the population.\\n   - **Evaluation**: However, it is similar to option B. The key difference is that option B focuses on the process that leads to an unrepresentative sample, while option D focuses on the outcome.\\n   - **Example**: If a survey's methodology inherently excludes certain groups, the outcome will be a biased sample.\\n   - **Conclusion**: Since understanding the process is crucial for addressing bias, option B provides a more comprehensive explanation.\\n\\n**Summary**:\\n- Option A is incomplete as it only addresses one aspect of bias.\\n- Option B is comprehensive as it addresses the process leading to bias.\\n- Option C is too narrow, focusing only on randomization.\\n- Option D is correct but less comprehensive than B.\\n\\nAnswer:\\nB\"}"
      ]
     },
     "execution_count": 4,
     "metadata": {},
     "output_type": "execute_result"
    }
   ],
   "source": [
    "ta.run()"
   ]
  },
  {
   "cell_type": "code",
   "execution_count": 5,
   "metadata": {},
   "outputs": [
    {
     "data": {
      "text/plain": [
       "{'corequestion': '',\n",
       " 'hints': [],\n",
       " 'iterations': {0: {'initial_prompt': 'For the given multiple choice question with the options, reason step by step to get to the answer.\\nFor the output follow the format: \\nReasoning:\\n$reasoning\\nAnswer:\\n$answer\\nWhere `$reasoning` is the step by step reasoning to get to the answer and `$answer` is the letter from `ABCD` corresponding to the answer.\\nQuestion:\\nWhich of these statements correctly explains bias?\\nOptions:\\nA. It describes a process that creates estimates that are too high on average or too low on average.\\nB. It describes a process that results in a sample that does not represent the population.\\nC. It describes a lack of randomization in the sampling process.\\nD. It describes a sample that is not representative of the population.',\n",
       "   'response': 'Reasoning:\\nBias in statistics refers to a systematic error that skews the results in a particular direction. \\nA. This statement describes bias as creating estimates that are consistently too high or too low, which is correct but not a complete explanation of bias.\\nB. This statement correctly explains bias as resulting in a sample that does not accurately represent the population, which is a key aspect of bias.\\nC. This statement describes a lack of randomization in the sampling process, which is related to bias but not a complete explanation.\\nD. This statement also correctly explains bias as a sample that is not representative of the population, which is a key characteristic of bias.\\n\\nAnswer:\\nB. It describes a process that results in a sample that does not represent the population.',\n",
       "   'feedback': '### Detailed Feedback:\\n\\n#### Criteria for Evaluation:\\n\\n1. **Accuracy of Reasoning**:\\n   - **Feedback**: The reasoning provided for each option is generally accurate but lacks depth. For instance, option A is dismissed as \"not a complete explanation\" without elaborating on why it is incomplete. Similarly, options C and D are acknowledged as related to bias but not fully explained.\\n   - **Improvement**: Provide more detailed explanations for why each option is correct or incorrect. For example, explain why option A is not a complete explanation by discussing the concept of systematic error in more detail.\\n\\n2. **Clarity of Explanation**:\\n   - **Feedback**: The reasoning is clear but could be more precise. For example, the explanation for option B is somewhat vague and could be more specific about how bias affects the representativeness of a sample.\\n   - **Improvement**: Use more precise language and provide concrete examples where possible. For instance, explain how bias can lead to over- or under-representation of certain groups within a sample.\\n\\n3. **Comprehensiveness**:\\n   - **Feedback**: The response does not fully address all aspects of bias. For example, it does not discuss how bias can arise from both the sampling process and the measurement process.\\n   - **Improvement**: Include a more comprehensive discussion of bias, covering different types of bias (e.g., selection bias, measurement bias) and how they can affect the results.\\n\\n4. **Consistency**:\\n   - **Feedback**: The reasoning for options B and D is somewhat inconsistent. Both are described as key aspects of bias, but only B is chosen as the correct answer.\\n   - **Improvement**: Ensure consistency in the evaluation of each option. If two options are described as correct, clarify why one is preferred over the other.\\n\\n5. **Justification of Final Answer**:\\n   - **Feedback**: The final answer is justified, but the rationale could be stronger. The response should explain why option B is the best choice among the correct options.\\n   - **Improvement**: Strengthen the justification for the final answer by comparing it directly with the other options and explaining why it is the most accurate and comprehensive.\\n\\n### Revised Prompt:\\n\\nFor the given multiple choice question with the options, reason step by step to get to the answer. Ensure that each option is evaluated comprehensively and clearly, providing detailed explanations for why each option is correct or incorrect. Discuss different aspects of the concept in question and ensure consistency in the evaluation. For the output, follow the format:\\nReasoning:\\n$reasoning\\nAnswer:\\n$answer\\nWhere `$reasoning` is the step-by-step reasoning to get to the answer and `$answer` is the letter from `ABCD` corresponding to the answer.\\n\\n### Revised Generated Response:\\n\\nReasoning:\\nBias in statistics refers to a systematic error that skews the results in a particular direction. Let\\'s evaluate each option:\\n\\nA. This statement describes bias as creating estimates that are consistently too high or too low. While this is a characteristic of bias, it does not fully capture the concept. Bias can also occur in other forms, such as selection bias or measurement bias, which are not necessarily about estimates being too high or too low.\\n\\nB. This statement correctly explains bias as resulting in a sample that does not accurately represent the population. This is a key aspect of bias because it highlights how the sample\\'s lack of representativeness can lead to systematic errors in the results.\\n\\nC. This statement describes a lack of randomization in the sampling process. While a lack of randomization can lead to bias, it is not a complete explanation of bias itself. Bias can also occur even in randomized processes if there are systematic errors in measurement or data collection.\\n\\nD. This statement also correctly explains bias as a sample that is not representative of the population. However, it is similar to option B. The key difference is that option B focuses on the process that leads to an unrepresentative sample, while option D focuses on the outcome.\\n\\nGiven these evaluations, option B is the most comprehensive and accurate explanation of bias because it addresses the process that leads to a biased sample.\\n\\nAnswer:\\nB. It describes a process that results in a sample that does not represent the population.\\n\\n### Summary:\\n\\nBy providing more detailed and precise explanations for each option, the revised prompt and response offer a more comprehensive and accurate evaluation of the multiple-choice question. This approach ensures that the reasoning is clear, consistent, and well-justified, leading to a more robust final answer.',\n",
       "   'updated_prompt': \"For the given multiple-choice question with the options, reason step by step to get to the answer. Ensure that each option is evaluated comprehensively and clearly, providing detailed explanations for why each option is correct or incorrect. Discuss different aspects of the concept in question, including various types of bias and how they can affect the results. Ensure consistency in the evaluation of each option. For the output, follow the format:\\nReasoning:\\n$reasoning\\nAnswer:\\n$answer\\nWhere `$reasoning` is the step-by-step reasoning to get to the answer and `$answer` is the letter from `ABCD` corresponding to the answer.\\n\\nQuestion:\\nWhich of these statements correctly explains bias?\\nOptions:\\nA. It describes a process that creates estimates that are too high on average or too low on average.\\nB. It describes a process that results in a sample that does not represent the population.\\nC. It describes a lack of randomization in the sampling process.\\nD. It describes a sample that is not representative of the population.\\n\\n### Example Response:\\n\\nReasoning:\\nBias in statistics refers to a systematic error that skews the results in a particular direction. Let's evaluate each option:\\n\\nA. This statement describes bias as creating estimates that are consistently too high or too low. While this is a characteristic of bias, it does not fully capture the concept. Bias can also occur in other forms, such as selection bias or measurement bias, which are not necessarily about estimates being too high or too low. Therefore, this option is not a complete explanation of bias.\\n\\nB. This statement correctly explains bias as resulting in a sample that does not accurately represent the population. This is a key aspect of bias because it highlights how the sample's lack of representativeness can lead to systematic errors in the results. This explanation encompasses both selection bias and other forms of bias that affect the representativeness of the sample.\\n\\nC. This statement describes a lack of randomization in the sampling process. While a lack of randomization can lead to bias, it is not a complete explanation of bias itself. Bias can also occur even in randomized processes if there are systematic errors in measurement or data collection. Therefore, this option is too narrow to fully explain bias.\\n\\nD. This statement also correctly explains bias as a sample that is not representative of the population. However, it is similar to option B. The key difference is that option B focuses on the process that leads to an unrepresentative sample, while option D focuses on the outcome. Since understanding the process is crucial for addressing bias, option B provides a more comprehensive explanation.\\n\\nGiven these evaluations, option B is the most comprehensive and accurate explanation of bias because it addresses the process that leads to a biased sample.\\n\\nAnswer:\\nB\"},\n",
       "  1: {'initial_prompt': \"For the given multiple-choice question with the options, reason step by step to get to the answer. Ensure that each option is evaluated comprehensively and clearly, providing detailed explanations for why each option is correct or incorrect. Discuss different aspects of the concept in question, including various types of bias and how they can affect the results. Ensure consistency in the evaluation of each option. For the output, follow the format:\\nReasoning:\\n$reasoning\\nAnswer:\\n$answer\\nWhere `$reasoning` is the step-by-step reasoning to get to the answer and `$answer` is the letter from `ABCD` corresponding to the answer.\\n\\nQuestion:\\nWhich of these statements correctly explains bias?\\nOptions:\\nA. It describes a process that creates estimates that are too high on average or too low on average.\\nB. It describes a process that results in a sample that does not represent the population.\\nC. It describes a lack of randomization in the sampling process.\\nD. It describes a sample that is not representative of the population.\\n\\n### Example Response:\\n\\nReasoning:\\nBias in statistics refers to a systematic error that skews the results in a particular direction. Let's evaluate each option:\\n\\nA. This statement describes bias as creating estimates that are consistently too high or too low. While this is a characteristic of bias, it does not fully capture the concept. Bias can also occur in other forms, such as selection bias or measurement bias, which are not necessarily about estimates being too high or too low. Therefore, this option is not a complete explanation of bias.\\n\\nB. This statement correctly explains bias as resulting in a sample that does not accurately represent the population. This is a key aspect of bias because it highlights how the sample's lack of representativeness can lead to systematic errors in the results. This explanation encompasses both selection bias and other forms of bias that affect the representativeness of the sample.\\n\\nC. This statement describes a lack of randomization in the sampling process. While a lack of randomization can lead to bias, it is not a complete explanation of bias itself. Bias can also occur even in randomized processes if there are systematic errors in measurement or data collection. Therefore, this option is too narrow to fully explain bias.\\n\\nD. This statement also correctly explains bias as a sample that is not representative of the population. However, it is similar to option B. The key difference is that option B focuses on the process that leads to an unrepresentative sample, while option D focuses on the outcome. Since understanding the process is crucial for addressing bias, option B provides a more comprehensive explanation.\\n\\nGiven these evaluations, option B is the most comprehensive and accurate explanation of bias because it addresses the process that leads to a biased sample.\\n\\nAnswer:\\nB\",\n",
       "   'response': \"Reasoning:\\nBias in statistics is a systematic error that skews results in a particular direction. Let's evaluate each option:\\n\\nA. This statement describes bias as creating estimates that are consistently too high or too low. While this is one aspect of bias, it does not fully encompass the concept. Bias can also manifest in other ways, such as selection bias or measurement bias, which may not necessarily result in estimates being too high or too low. Therefore, this option is not a complete explanation of bias.\\n\\nB. This statement correctly explains bias as resulting in a sample that does not represent the population accurately. Bias can lead to a sample that is not reflective of the population, causing systematic errors in the results. This explanation covers various types of bias that affect the representativeness of the sample, making it a comprehensive understanding of bias.\\n\\nC. This statement describes a lack of randomization in the sampling process. While a lack of randomization can introduce bias, bias is not solely defined by the absence of randomization. Bias can arise from various sources, including non-random sampling methods, measurement errors, or confounding variables. Therefore, this option is too narrow to fully explain bias.\\n\\nD. This statement also correctly explains bias as a sample that is not representative of the population. However, it focuses more on the outcome of bias rather than the process that leads to it. Understanding the process is crucial for identifying and addressing bias effectively. While the outcome is important, option B provides a more comprehensive explanation by addressing the process that leads to bias.\\n\\nConsidering these evaluations, option B provides the most comprehensive and accurate explanation of bias by highlighting how it leads to a sample that does not accurately represent the population.\\n\\nAnswer:\\nB\",\n",
       "   'feedback': \"### Detailed Feedback:\\n\\n#### Criteria for Evaluation:\\n\\n1. **Comprehensiveness of Reasoning**:\\n   - **Feedback**: The reasoning provided in both the example response and the generated response is thorough and evaluates each option in detail. However, the prompt could be improved by explicitly asking for the inclusion of examples or scenarios to illustrate each type of bias mentioned. This would enhance the comprehensiveness and clarity of the reasoning.\\n\\n2. **Clarity and Consistency**:\\n   - **Feedback**: The reasoning is clear and consistent across both responses. Each option is evaluated systematically, and the rationale for why each option is correct or incorrect is well-articulated. To further improve clarity, the prompt could instruct the evaluator to use bullet points or numbered lists for each point of evaluation, making it easier to follow.\\n\\n3. **Depth of Conceptual Understanding**:\\n   - **Feedback**: Both responses demonstrate a solid understanding of the concept of bias, including different types of bias such as selection bias and measurement bias. However, the prompt could be enhanced by asking the evaluator to discuss the implications of each type of bias on statistical results and decision-making processes. This would deepen the conceptual understanding presented in the reasoning.\\n\\n4. **Evaluation of Each Option**:\\n   - **Feedback**: Each option is evaluated comprehensively, but the prompt could be improved by asking the evaluator to explicitly compare and contrast similar options (e.g., B and D in this case). This would help in highlighting subtle differences and making a more informed choice.\\n\\n5. **Justification of the Final Answer**:\\n   - **Feedback**: The final answer is well-justified in both responses. However, the prompt could be improved by asking the evaluator to summarize the key points that led to the final decision, reinforcing the rationale behind the chosen answer.\\n\\n6. **Inclusion of Different Aspects of Bias**:\\n   - **Feedback**: The responses touch upon different aspects of bias but could benefit from a more structured approach. The prompt could ask the evaluator to categorize the types of bias discussed (e.g., selection bias, measurement bias) and provide specific examples for each category.\\n\\n### Improved Prompt:\\n\\nFor the given multiple-choice question with the options, reason step by step to get to the answer. Ensure that each option is evaluated comprehensively and clearly, providing detailed explanations for why each option is correct or incorrect. Discuss different aspects of the concept in question, including various types of bias and how they can affect the results. Ensure consistency in the evaluation of each option. Use bullet points or numbered lists for clarity. Include examples or scenarios to illustrate each type of bias mentioned. Compare and contrast similar options to highlight subtle differences. Summarize the key points that led to the final decision. For the output, follow the format:\\n\\nReasoning:\\n$reasoning\\nAnswer:\\n$answer\\n\\nWhere `$reasoning` is the step-by-step reasoning to get to the answer and `$answer` is the letter from `ABCD` corresponding to the answer.\\n\\n### Example Response:\\n\\nReasoning:\\nBias in statistics refers to a systematic error that skews the results in a particular direction. Let's evaluate each option:\\n\\n1. **Option A**:\\n   - This statement describes bias as creating estimates that are consistently too high or too low.\\n   - **Evaluation**: While this is a characteristic of bias, it does not fully capture the concept. Bias can also occur in other forms, such as selection bias or measurement bias, which are not necessarily about estimates being too high or too low.\\n   - **Example**: Measurement bias can occur if a scale is consistently off by a certain amount, regardless of whether the estimates are too high or too low.\\n   - **Conclusion**: Therefore, this option is not a complete explanation of bias.\\n\\n2. **Option B**:\\n   - This statement correctly explains bias as resulting in a sample that does not accurately represent the population.\\n   - **Evaluation**: This is a key aspect of bias because it highlights how the sample's lack of representativeness can lead to systematic errors in the results.\\n   - **Example**: Selection bias can occur if a survey only includes respondents from a specific demographic, leading to unrepresentative results.\\n   - **Conclusion**: This explanation encompasses both selection bias and other forms of bias that affect the representativeness of the sample.\\n\\n3. **Option C**:\\n   - This statement describes a lack of randomization in the sampling process.\\n   - **Evaluation**: While a lack of randomization can lead to bias, it is not a complete explanation of bias itself. Bias can also occur even in randomized processes if there are systematic errors in measurement or data collection.\\n   - **Example**: Even with random sampling, measurement bias can occur if the data collection method is flawed.\\n   - **Conclusion**: Therefore, this option is too narrow to fully explain bias.\\n\\n4. **Option D**:\\n   - This statement also correctly explains bias as a sample that is not representative of the population.\\n   - **Evaluation**: However, it is similar to option B. The key difference is that option B focuses on the process that leads to an unrepresentative sample, while option D focuses on the outcome.\\n   - **Example**: If a survey's methodology inherently excludes certain groups, the outcome will be a biased sample.\\n   - **Conclusion**: Since understanding the process is crucial for addressing bias, option B provides a more comprehensive explanation.\\n\\n**Summary**:\\n- Option A is incomplete as it only addresses one aspect of bias.\\n- Option B is comprehensive as it addresses the process leading to bias.\\n- Option C is too narrow, focusing only on randomization.\\n- Option D is correct but less comprehensive than B.\\n\\nAnswer:\\nB\",\n",
       "   'updated_prompt': \"For the given multiple-choice question with the options, reason step by step to get to the answer. Ensure that each option is evaluated comprehensively and clearly, providing detailed explanations for why each option is correct or incorrect. Discuss different aspects of the concept in question, including various types of bias and how they can affect the results. Ensure consistency in the evaluation of each option. Use bullet points or numbered lists for clarity. Include examples or scenarios to illustrate each type of bias mentioned. Compare and contrast similar options to highlight subtle differences. Summarize the key points that led to the final decision. For the output, follow the format:\\n\\nReasoning:\\n$reasoning\\nAnswer:\\n$answer\\n\\nWhere `$reasoning` is the step-by-step reasoning to get to the answer and `$answer` is the letter from `ABCD` corresponding to the answer.\\n\\n### Example Response:\\n\\nReasoning:\\nBias in statistics refers to a systematic error that skews the results in a particular direction. Let's evaluate each option:\\n\\n1. **Option A**:\\n   - This statement describes bias as creating estimates that are consistently too high or too low.\\n   - **Evaluation**: While this is a characteristic of bias, it does not fully capture the concept. Bias can also occur in other forms, such as selection bias or measurement bias, which are not necessarily about estimates being too high or too low.\\n   - **Example**: Measurement bias can occur if a scale is consistently off by a certain amount, regardless of whether the estimates are too high or too low.\\n   - **Conclusion**: Therefore, this option is not a complete explanation of bias.\\n\\n2. **Option B**:\\n   - This statement correctly explains bias as resulting in a sample that does not accurately represent the population.\\n   - **Evaluation**: This is a key aspect of bias because it highlights how the sample's lack of representativeness can lead to systematic errors in the results.\\n   - **Example**: Selection bias can occur if a survey only includes respondents from a specific demographic, leading to unrepresentative results.\\n   - **Conclusion**: This explanation encompasses both selection bias and other forms of bias that affect the representativeness of the sample.\\n\\n3. **Option C**:\\n   - This statement describes a lack of randomization in the sampling process.\\n   - **Evaluation**: While a lack of randomization can lead to bias, it is not a complete explanation of bias itself. Bias can also occur even in randomized processes if there are systematic errors in measurement or data collection.\\n   - **Example**: Even with random sampling, measurement bias can occur if the data collection method is flawed.\\n   - **Conclusion**: Therefore, this option is too narrow to fully explain bias.\\n\\n4. **Option D**:\\n   - This statement also correctly explains bias as a sample that is not representative of the population.\\n   - **Evaluation**: However, it is similar to option B. The key difference is that option B focuses on the process that leads to an unrepresentative sample, while option D focuses on the outcome.\\n   - **Example**: If a survey's methodology inherently excludes certain groups, the outcome will be a biased sample.\\n   - **Conclusion**: Since understanding the process is crucial for addressing bias, option B provides a more comprehensive explanation.\\n\\n**Summary**:\\n- Option A is incomplete as it only addresses one aspect of bias.\\n- Option B is comprehensive as it addresses the process leading to bias.\\n- Option C is too narrow, focusing only on randomization.\\n- Option D is correct but less comprehensive than B.\\n\\nAnswer:\\nB\"}}}"
      ]
     },
     "execution_count": 5,
     "metadata": {},
     "output_type": "execute_result"
    }
   ],
   "source": [
    "ta.state_manager.state"
   ]
  },
  {
   "cell_type": "code",
   "execution_count": 7,
   "metadata": {},
   "outputs": [
    {
     "name": "stdout",
     "output_type": "stream",
     "text": [
      "For the given multiple-choice question with the options, reason step by step to get to the answer. Ensure that each option is evaluated comprehensively and clearly, providing detailed explanations for why each option is correct or incorrect. Discuss different aspects of the concept in question, including various types of bias and how they can affect the results. Ensure consistency in the evaluation of each option. Use bullet points or numbered lists for clarity. Include examples or scenarios to illustrate each type of bias mentioned. Compare and contrast similar options to highlight subtle differences. Summarize the key points that led to the final decision. For the output, follow the format:\n",
      "\n",
      "Reasoning:\n",
      "$reasoning\n",
      "Answer:\n",
      "$answer\n",
      "\n",
      "Where `$reasoning` is the step-by-step reasoning to get to the answer and `$answer` is the letter from `ABCD` corresponding to the answer.\n",
      "\n",
      "### Example Response:\n",
      "\n",
      "Reasoning:\n",
      "Bias in statistics refers to a systematic error that skews the results in a particular direction. Let's evaluate each option:\n",
      "\n",
      "1. **Option A**:\n",
      "   - This statement describes bias as creating estimates that are consistently too high or too low.\n",
      "   - **Evaluation**: While this is a characteristic of bias, it does not fully capture the concept. Bias can also occur in other forms, such as selection bias or measurement bias, which are not necessarily about estimates being too high or too low.\n",
      "   - **Example**: Measurement bias can occur if a scale is consistently off by a certain amount, regardless of whether the estimates are too high or too low.\n",
      "   - **Conclusion**: Therefore, this option is not a complete explanation of bias.\n",
      "\n",
      "2. **Option B**:\n",
      "   - This statement correctly explains bias as resulting in a sample that does not accurately represent the population.\n",
      "   - **Evaluation**: This is a key aspect of bias because it highlights how the sample's lack of representativeness can lead to systematic errors in the results.\n",
      "   - **Example**: Selection bias can occur if a survey only includes respondents from a specific demographic, leading to unrepresentative results.\n",
      "   - **Conclusion**: This explanation encompasses both selection bias and other forms of bias that affect the representativeness of the sample.\n",
      "\n",
      "3. **Option C**:\n",
      "   - This statement describes a lack of randomization in the sampling process.\n",
      "   - **Evaluation**: While a lack of randomization can lead to bias, it is not a complete explanation of bias itself. Bias can also occur even in randomized processes if there are systematic errors in measurement or data collection.\n",
      "   - **Example**: Even with random sampling, measurement bias can occur if the data collection method is flawed.\n",
      "   - **Conclusion**: Therefore, this option is too narrow to fully explain bias.\n",
      "\n",
      "4. **Option D**:\n",
      "   - This statement also correctly explains bias as a sample that is not representative of the population.\n",
      "   - **Evaluation**: However, it is similar to option B. The key difference is that option B focuses on the process that leads to an unrepresentative sample, while option D focuses on the outcome.\n",
      "   - **Example**: If a survey's methodology inherently excludes certain groups, the outcome will be a biased sample.\n",
      "   - **Conclusion**: Since understanding the process is crucial for addressing bias, option B provides a more comprehensive explanation.\n",
      "\n",
      "**Summary**:\n",
      "- Option A is incomplete as it only addresses one aspect of bias.\n",
      "- Option B is comprehensive as it addresses the process leading to bias.\n",
      "- Option C is too narrow, focusing only on randomization.\n",
      "- Option D is correct but less comprehensive than B.\n",
      "\n",
      "Answer:\n",
      "B\n"
     ]
    }
   ],
   "source": [
    "print(ta.state_manager.state[\"iterations\"][1][\"updated_prompt\"])"
   ]
  },
  {
   "cell_type": "code",
   "execution_count": 8,
   "metadata": {},
   "outputs": [
    {
     "name": "stderr",
     "output_type": "stream",
     "text": [
      "INFO:httpx:HTTP Request: POST https://api.openai.com/v1/chat/completions \"HTTP/1.1 200 OK\"\n"
     ]
    },
    {
     "name": "stdout",
     "output_type": "stream",
     "text": [
      "Reasoning:\n",
      "Bias in statistics is a crucial concept that can lead to inaccurate results. Let's evaluate each option to determine the most accurate explanation:\n",
      "\n",
      "1. **Option A**:\n",
      "   - This option states that bias is the difference between the sample mean and the population mean.\n",
      "   - **Evaluation**: While this definition touches on the impact of bias on estimates, it does not fully capture the concept. Bias is not just about differences in means but also about systematic errors that consistently skew results in one direction.\n",
      "   - **Example**: If a scale consistently underestimates weights, the bias will be present in every measurement, affecting the mean but not solely defined by it.\n",
      "   - **Conclusion**: This option is partially correct but lacks a comprehensive explanation of bias.\n",
      "\n",
      "2. **Option B**:\n",
      "   - This option describes bias as a systematic error that leads to results that do not accurately represent the population.\n",
      "   - **Evaluation**: This definition is accurate and comprehensive. Bias can arise from various sources such as selection bias, measurement bias, or confounding variables, all of which contribute to results deviating from the true population parameters.\n",
      "   - **Example**: If a survey only includes responses from a specific age group, the results will not represent the entire population accurately, showcasing selection bias.\n",
      "   - **Conclusion**: This option provides a thorough understanding of bias in statistics.\n",
      "\n",
      "3. **Option C**:\n",
      "   - This option defines bias as the tendency for estimates to be consistently too high or too low.\n",
      "   - **Evaluation**: While this definition is partially correct, it focuses more on the impact of bias on estimates rather than the underlying systematic errors causing the bias.\n",
      "   - **Example**: If a thermometer consistently reads temperatures 2 degrees higher than the actual temperature, the bias will be present in all measurements, affecting the estimates.\n",
      "   - **Conclusion**: This option captures an aspect of bias but does not fully explain the concept.\n",
      "\n",
      "4. **Option D**:\n",
      "   - This option states that bias is the result of a lack of randomization in the sampling process.\n",
      "   - **Evaluation**: While randomization is crucial in reducing bias, bias can still occur even in randomized samples due to other factors like measurement errors or non-response bias.\n",
      "   - **Example**: Even in a randomized clinical trial, if participants do not adhere to the treatment protocol, bias can still affect the results.\n",
      "   - **Conclusion**: This option is too narrow in its focus on randomization and does not encompass all sources of bias.\n",
      "\n",
      "In summary, option B provides the most accurate and comprehensive explanation of bias in statistics, considering the various sources and impacts of bias on results.\n",
      "\n",
      "Answer:\n",
      "B\n"
     ]
    }
   ],
   "source": [
    "print(llm.complete(ta.state_manager.state[\"iterations\"][1][\"updated_prompt\"]).text)"
   ]
  },
  {
   "cell_type": "code",
   "execution_count": 9,
   "metadata": {},
   "outputs": [
    {
     "name": "stderr",
     "output_type": "stream",
     "text": [
      "INFO:httpx:HTTP Request: POST https://api.openai.com/v1/chat/completions \"HTTP/1.1 200 OK\"\n"
     ]
    },
    {
     "name": "stdout",
     "output_type": "stream",
     "text": [
      "Reasoning:\n",
      "Bias in statistics refers to a systematic error that skews the results in a particular direction. Let's evaluate each option:\n",
      "\n",
      "1. **Option A**:\n",
      "   - This statement describes bias as creating estimates that are consistently too high or too low.\n",
      "   - **Evaluation**: While this is a characteristic of bias, it does not fully capture the concept. Bias can also occur in other forms, such as selection bias or measurement bias, which are not necessarily about estimates being too high or too low.\n",
      "   - **Example**: Measurement bias can occur if a scale is consistently off by a certain amount, regardless of whether the estimates are too high or too low.\n",
      "   - **Conclusion**: Therefore, this option is not a complete explanation of bias.\n",
      "\n",
      "2. **Option B**:\n",
      "   - This statement correctly explains bias as resulting in a sample that does not accurately represent the population.\n",
      "   - **Evaluation**: This is a key aspect of bias because it highlights how the sample's lack of representativeness can lead to systematic errors in the results.\n",
      "   - **Example**: Selection bias can occur if a survey only includes respondents from a specific demographic, leading to unrepresentative results.\n",
      "   - **Conclusion**: This explanation encompasses both selection bias and other forms of bias that affect the representativeness of the sample.\n",
      "\n",
      "3. **Option C**:\n",
      "   - This statement describes a lack of randomization in the sampling process.\n",
      "   - **Evaluation**: While a lack of randomization can lead to bias, it is not a complete explanation of bias itself. Bias can also occur even in randomized processes if there are systematic errors in measurement or data collection.\n",
      "   - **Example**: Even with random sampling, measurement bias can occur if the data collection method is flawed.\n",
      "   - **Conclusion**: Therefore, this option is too narrow to fully explain bias.\n",
      "\n",
      "4. **Option D**:\n",
      "   - This statement also correctly explains bias as a sample that is not representative of the population.\n",
      "   - **Evaluation**: However, it is similar to option B. The key difference is that option B focuses on the process that leads to an unrepresentative sample, while option D focuses on the outcome.\n",
      "   - **Example**: If a survey's methodology inherently excludes certain groups, the outcome will be a biased sample.\n",
      "   - **Conclusion**: Since understanding the process is crucial for addressing bias, option B provides a more comprehensive explanation.\n",
      "\n",
      "**Summary**:\n",
      "- Option A is incomplete as it only addresses one aspect of bias.\n",
      "- Option B is comprehensive as it addresses the process leading to bias.\n",
      "- Option C is too narrow, focusing only on randomization.\n",
      "- Option D is correct but less comprehensive than B.\n",
      "\n",
      "Answer:\n",
      "B\n"
     ]
    }
   ],
   "source": [
    "llmpower = OpenAI(model=\"gpt-4o\")\n",
    "\n",
    "print(llmpower.complete(ta.state_manager.state[\"iterations\"][1][\"updated_prompt\"]).text)"
   ]
  },
  {
   "cell_type": "code",
   "execution_count": null,
   "metadata": {},
   "outputs": [],
   "source": []
  },
  {
   "cell_type": "code",
   "execution_count": null,
   "metadata": {},
   "outputs": [],
   "source": []
  }
 ],
 "metadata": {
  "kernelspec": {
   "display_name": ".venv",
   "language": "python",
   "name": "python3"
  },
  "language_info": {
   "codemirror_mode": {
    "name": "ipython",
    "version": 3
   },
   "file_extension": ".py",
   "mimetype": "text/x-python",
   "name": "python",
   "nbconvert_exporter": "python",
   "pygments_lexer": "ipython3",
   "version": "3.11.5"
  }
 },
 "nbformat": 4,
 "nbformat_minor": 2
}
